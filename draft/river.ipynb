{
 "cells": [
  {
   "cell_type": "code",
   "execution_count": 1,
   "id": "08f568fd-2147-4e0c-b940-0cef0c2bc536",
   "metadata": {
    "execution": {
     "iopub.execute_input": "2024-12-01T15:33:12.861417Z",
     "iopub.status.busy": "2024-12-01T15:33:12.860971Z",
     "iopub.status.idle": "2024-12-01T15:33:12.865081Z",
     "shell.execute_reply": "2024-12-01T15:33:12.864068Z",
     "shell.execute_reply.started": "2024-12-01T15:33:12.861394Z"
    }
   },
   "outputs": [],
   "source": [
    "# !pip install river"
   ]
  },
  {
   "cell_type": "code",
   "execution_count": 2,
   "id": "06a96083-7967-44ad-950b-edfb14552a03",
   "metadata": {
    "execution": {
     "iopub.execute_input": "2024-12-01T15:33:12.868640Z",
     "iopub.status.busy": "2024-12-01T15:33:12.867509Z",
     "iopub.status.idle": "2024-12-01T15:33:14.331453Z",
     "shell.execute_reply": "2024-12-01T15:33:14.330845Z",
     "shell.execute_reply.started": "2024-12-01T15:33:12.868614Z"
    }
   },
   "outputs": [],
   "source": [
    "from river import cluster\n",
    "from river import stream"
   ]
  },
  {
   "cell_type": "code",
   "execution_count": 3,
   "id": "29e0af7d-fed7-47df-9a3e-b8ccdbcf3be7",
   "metadata": {
    "execution": {
     "iopub.execute_input": "2024-12-01T15:33:14.332890Z",
     "iopub.status.busy": "2024-12-01T15:33:14.332356Z",
     "iopub.status.idle": "2024-12-01T15:33:14.344157Z",
     "shell.execute_reply": "2024-12-01T15:33:14.343395Z",
     "shell.execute_reply.started": "2024-12-01T15:33:14.332863Z"
    }
   },
   "outputs": [
    {
     "data": {
      "text/plain": [
       "1"
      ]
     },
     "execution_count": 3,
     "metadata": {},
     "output_type": "execute_result"
    }
   ],
   "source": [
    "X = [\n",
    "    [-1, -0.5], [-1, -0.625], [-1, -0.75], [-1, -1], [-1, -1.125],\n",
    "    [-1, -1.25], [-1.5, -0.5], [-1.5, -0.625], [-1.5, -0.75], [-1.5, -1],\n",
    "    [-1.5, -1.125], [-1.5, -1.25], [1, 1.5], [1, 1.75], [1, 2],\n",
    "    [4, 1.25], [4, 1.5], [4, 2.25], [4, 2.5], [4, 3],\n",
    "    [4, 3.25], [4, 3.5], [4, 3.75], [4, 4],\n",
    "]\n",
    "\n",
    "denstream = cluster.DenStream(decaying_factor=0.01,\n",
    "                              beta=0.5,\n",
    "                              mu=2.5,\n",
    "                              epsilon=0.5,\n",
    "                              n_samples_init=10)\n",
    "\n",
    "for x, _ in stream.iter_array(X):\n",
    "    denstream.learn_one(x)\n",
    "\n",
    "denstream.predict_one({0: -1, 1: -2})"
   ]
  },
  {
   "cell_type": "markdown",
   "id": "b3782862-37ef-4591-b09b-e99a104272e3",
   "metadata": {
    "execution": {
     "iopub.execute_input": "2024-11-21T07:23:12.404632Z",
     "iopub.status.busy": "2024-11-21T07:23:12.404015Z",
     "iopub.status.idle": "2024-11-21T07:23:12.433669Z",
     "shell.execute_reply": "2024-11-21T07:23:12.431483Z",
     "shell.execute_reply.started": "2024-11-21T07:23:12.404546Z"
    }
   },
   "source": [
    "参考：\n",
    "\n",
    "- [DenStream](https://riverml.xyz/latest/api/cluster/DenStream/)"
   ]
  },
  {
   "cell_type": "code",
   "execution_count": null,
   "id": "1cf4fb83-c01b-4bdd-b50d-2132e8e0da22",
   "metadata": {},
   "outputs": [],
   "source": []
  }
 ],
 "metadata": {
  "kernelspec": {
   "display_name": "Python 3 (ipykernel)",
   "language": "python",
   "name": "python3"
  },
  "language_info": {
   "codemirror_mode": {
    "name": "ipython",
    "version": 3
   },
   "file_extension": ".py",
   "mimetype": "text/x-python",
   "name": "python",
   "nbconvert_exporter": "python",
   "pygments_lexer": "ipython3",
   "version": "3.10.14"
  }
 },
 "nbformat": 4,
 "nbformat_minor": 5
}
