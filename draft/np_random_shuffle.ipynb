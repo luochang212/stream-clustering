{
 "cells": [
  {
   "cell_type": "code",
   "execution_count": 1,
   "id": "98aacc46-a77e-44cc-9f2b-de843cc805f2",
   "metadata": {
    "execution": {
     "iopub.execute_input": "2024-12-01T15:33:22.225601Z",
     "iopub.status.busy": "2024-12-01T15:33:22.225133Z",
     "iopub.status.idle": "2024-12-01T15:33:22.341520Z",
     "shell.execute_reply": "2024-12-01T15:33:22.340433Z",
     "shell.execute_reply.started": "2024-12-01T15:33:22.225577Z"
    }
   },
   "outputs": [
    {
     "name": "stdout",
     "output_type": "stream",
     "text": [
      "[[7 8]\n",
      " [1 2]\n",
      " [3 4]\n",
      " [5 6]]\n"
     ]
    }
   ],
   "source": [
    "import numpy as np\n",
    "\n",
    "arr = np.array([[1, 2], [3, 4], [5, 6], [7, 8]])\n",
    "np.random.shuffle(arr)\n",
    "print(arr)"
   ]
  },
  {
   "cell_type": "code",
   "execution_count": null,
   "id": "eff97927-dfc8-4149-ab33-89bed981d269",
   "metadata": {},
   "outputs": [],
   "source": []
  }
 ],
 "metadata": {
  "kernelspec": {
   "display_name": "Python 3 (ipykernel)",
   "language": "python",
   "name": "python3"
  },
  "language_info": {
   "codemirror_mode": {
    "name": "ipython",
    "version": 3
   },
   "file_extension": ".py",
   "mimetype": "text/x-python",
   "name": "python",
   "nbconvert_exporter": "python",
   "pygments_lexer": "ipython3",
   "version": "3.10.14"
  }
 },
 "nbformat": 4,
 "nbformat_minor": 5
}
