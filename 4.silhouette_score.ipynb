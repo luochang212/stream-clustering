{
 "cells": [
  {
   "cell_type": "markdown",
   "id": "e17ca9a5-5ba2-4638-a8c0-4600339ea030",
   "metadata": {},
   "source": [
    "# 附录：轮廓系数\n",
    "\n",
    "**轮廓系数（Silhouette Coefficient）** 是一种用于评估聚类效果的指标，它从单个样本的角度衡量其聚类的合理性。轮廓系数综合考虑了样本与其所属簇内点的相似性（紧密度）和样本与其最近簇的点的相似性（分离度）。\n",
    "\n",
    "### 定义公式\n",
    "对于某个样本 $i$：\n",
    "1. **簇内平均距离（$a(i)$）**：\n",
    "   - 定义为样本 $i$ 到同簇内其他样本的平均距离，反映其与本簇的紧密程度。\n",
    "   - 数值越小，说明样本 $i$ 越靠近本簇的中心。\n",
    "   $$\n",
    "   a(i) = \\frac{1}{|C| - 1} \\sum_{j \\in C, j \\neq i} d(i, j)\n",
    "   $$\n",
    "   其中，$C$ 是样本 $i$ 所属的簇，$d(i, j)$ 是样本 $i$ 和 $j$ 之间的距离。\n",
    "\n",
    "2. **最近簇的平均距离（$b(i)$）**：\n",
    "   - 定义为样本 $i$ 到其最近的其他簇的所有样本的平均距离。\n",
    "   - 最近簇是指与样本 $i$ 的簇 $C$ 之外的簇 $C'$ 中，距离样本 $i$ 最近的簇。\n",
    "   $$\n",
    "   b(i) = \\min_{C' \\neq C} \\frac{1}{|C'|} \\sum_{j \\in C'} d(i, j)\n",
    "   $$\n",
    "\n",
    "3. **轮廓系数（$s(i)$）**：\n",
    "   - 综合 $a(i)$ 和 $b(i)$，计算样本 $i$ 的轮廓系数：\n",
    "   $$\n",
    "   s(i) = \\frac{b(i) - a(i)}{\\max(a(i), b(i))}\n",
    "   $$\n",
    "   - 取值范围：$-1 \\leq s(i) \\leq 1$\n",
    "     - $s(i) \\approx 1$：样本聚类效果好，距离本簇中心较近且远离其他簇。\n",
    "     - $s(i) \\approx 0$：样本在簇边界，可能属于多个簇。\n",
    "     - $s(i) \\approx -1$：样本聚类效果差，可能被错误分配到簇。\n",
    "\n",
    "### 数据集的整体轮廓系数\n",
    "对于整个数据集的轮廓系数，取所有样本 $s(i)$ 的平均值：\n",
    "$$\n",
    "S = \\frac{1}{n} \\sum_{i=1}^n s(i)\n",
    "$$\n",
    "其中 $n$ 是样本总数。\n",
    "\n",
    "### 适用场景\n",
    "- **聚类效果评价**：轮廓系数可以直观反映聚类效果好坏，常用于评估不同的聚类参数（如 DBSCAN 的 $eps$、K-means 的簇数 $k$）。\n",
    "- **聚类模型选择**：在多个聚类结果中，选择轮廓系数更高的模型。\n",
    "- **无监督学习的模型优化**：尤其是在没有标签的情况下，用轮廓系数对模型进行评估。\n",
    "\n",
    "### 优点和局限\n",
    "**优点**：\n",
    "1. 不依赖标签，无监督。\n",
    "2. 提供了样本级别的聚类质量评价。\n",
    "\n",
    "**局限**：\n",
    "1. 计算复杂度较高，尤其在大规模数据中。\n",
    "2. 对高维数据的评价可能受距离度量方式的影响。\n",
    "\n",
    "（以上内容来自 ChatGPT 4o）"
   ]
  },
  {
   "cell_type": "code",
   "execution_count": null,
   "id": "bf00112b-8413-485e-94dc-3435a39243cb",
   "metadata": {},
   "outputs": [],
   "source": []
  }
 ],
 "metadata": {
  "kernelspec": {
   "display_name": "Python 3 (ipykernel)",
   "language": "python",
   "name": "python3"
  },
  "language_info": {
   "codemirror_mode": {
    "name": "ipython",
    "version": 3
   },
   "file_extension": ".py",
   "mimetype": "text/x-python",
   "name": "python",
   "nbconvert_exporter": "python",
   "pygments_lexer": "ipython3",
   "version": "3.10.14"
  }
 },
 "nbformat": 4,
 "nbformat_minor": 5
}
